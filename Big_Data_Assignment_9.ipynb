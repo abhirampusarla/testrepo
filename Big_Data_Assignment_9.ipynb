{
 "cells": [
  {
   "cell_type": "code",
   "execution_count": 1,
   "id": "15f62b54",
   "metadata": {},
   "outputs": [
    {
     "name": "stdout",
     "output_type": "stream",
     "text": [
      "Collecting mmh3\n",
      "  Obtaining dependency information for mmh3 from https://files.pythonhosted.org/packages/b3/aa/98511d3ea3f6ba958136d913be3be3c1009be935a20ecc7b2763f0a605b6/mmh3-4.1.0-cp311-cp311-macosx_11_0_arm64.whl.metadata\n",
      "  Downloading mmh3-4.1.0-cp311-cp311-macosx_11_0_arm64.whl.metadata (13 kB)\n",
      "Downloading mmh3-4.1.0-cp311-cp311-macosx_11_0_arm64.whl (30 kB)\n",
      "Installing collected packages: mmh3\n",
      "Successfully installed mmh3-4.1.0\n",
      "Note: you may need to restart the kernel to use updated packages.\n"
     ]
    }
   ],
   "source": [
    "pip install mmh3"
   ]
  },
  {
   "cell_type": "code",
   "execution_count": 2,
   "id": "cc9076a5",
   "metadata": {},
   "outputs": [
    {
     "name": "stdout",
     "output_type": "stream",
     "text": [
      "Collecting bitarray\n",
      "  Obtaining dependency information for bitarray from https://files.pythonhosted.org/packages/06/60/c1a419f8abd0c9d2641e3e570fc63ad3a87a63ef88a362900e3254f780bc/bitarray-2.9.2-cp311-cp311-macosx_11_0_arm64.whl.metadata\n",
      "  Downloading bitarray-2.9.2-cp311-cp311-macosx_11_0_arm64.whl.metadata (34 kB)\n",
      "Downloading bitarray-2.9.2-cp311-cp311-macosx_11_0_arm64.whl (124 kB)\n",
      "\u001b[2K   \u001b[90m━━━━━━━━━━━━━━━━━━━━━━━━━━━━━━━━━━━━━━━━\u001b[0m \u001b[32m124.6/124.6 kB\u001b[0m \u001b[31m5.1 MB/s\u001b[0m eta \u001b[36m0:00:00\u001b[0m\n",
      "\u001b[?25hInstalling collected packages: bitarray\n",
      "Successfully installed bitarray-2.9.2\n",
      "Note: you may need to restart the kernel to use updated packages.\n"
     ]
    }
   ],
   "source": [
    "pip install bitarray"
   ]
  },
  {
   "cell_type": "code",
   "execution_count": 7,
   "id": "288beaf8",
   "metadata": {},
   "outputs": [],
   "source": [
    "import mmh3\n",
    "from bitarray import bitarray\n",
    "class BloomFilter:\n",
    "    def __init__(self, size, num_hashes):\n",
    "        self.size = size\n",
    "        self.num_hashes = num_hashes\n",
    "        self.bit_array = bitarray(size)\n",
    "        self.bit_array.setall(0)\n",
    " \n",
    "    def add(self, item):\n",
    "        for i in range(self.num_hashes):\n",
    "            index = mmh3.hash(item, i) % self.size\n",
    "            self.bit_array[index] = 1\n",
    " \n",
    "    def __contains__(self, item):\n",
    "        for i in range(self.num_hashes):\n",
    "            index = mmh3.hash(item, i) % self.size\n",
    "            if not self.bit_array[index]:\n",
    "                return False\n",
    "        return True"
   ]
  },
  {
   "cell_type": "code",
   "execution_count": 11,
   "id": "c536a28c",
   "metadata": {},
   "outputs": [
    {
     "name": "stdout",
     "output_type": "stream",
     "text": [
      "True\n",
      "True\n",
      "False\n",
      "False\n"
     ]
    }
   ],
   "source": [
    "# Test Cases:\n",
    "bloom = BloomFilter(100, 3)\n",
    "bloom.add(\"Abhi\")\n",
    "bloom.add(\"ram\")\n",
    "print(\"Abhi\" in bloom)\n",
    "print(\"ram\" in bloom)\n",
    "print(\"Pusarla\" in bloom)\n",
    "print(\"Big data\" in bloom)\n"
   ]
  },
  {
   "cell_type": "code",
   "execution_count": null,
   "id": "ee0b5057",
   "metadata": {},
   "outputs": [],
   "source": []
  }
 ],
 "metadata": {
  "kernelspec": {
   "display_name": "Python 3 (ipykernel)",
   "language": "python",
   "name": "python3"
  },
  "language_info": {
   "codemirror_mode": {
    "name": "ipython",
    "version": 3
   },
   "file_extension": ".py",
   "mimetype": "text/x-python",
   "name": "python",
   "nbconvert_exporter": "python",
   "pygments_lexer": "ipython3",
   "version": "3.11.5"
  }
 },
 "nbformat": 4,
 "nbformat_minor": 5
}
